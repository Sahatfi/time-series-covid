{
 "cells": [
  {
   "cell_type": "markdown",
   "id": "b1380ec3-68d6-4251-b33f-cfafe5e201f2",
   "metadata": {},
   "source": [
    "# 1 Introduction and clinical context"
   ]
  },
  {
   "cell_type": "code",
   "execution_count": null,
   "id": "ff401c54-802c-442b-8745-76c72693c694",
   "metadata": {},
   "outputs": [],
   "source": []
  },
  {
   "cell_type": "markdown",
   "id": "837603f9-98c3-43cc-a00a-10768720e757",
   "metadata": {},
   "source": [
    "# 2 Defintions methods and hypotheses"
   ]
  },
  {
   "cell_type": "code",
   "execution_count": null,
   "id": "6ab27541-893b-43c3-bcf3-db97016290c4",
   "metadata": {},
   "outputs": [],
   "source": []
  },
  {
   "cell_type": "markdown",
   "id": "2813cd73-9773-48ee-bf5b-c6f432724636",
   "metadata": {},
   "source": [
    "# 3 Import of data and libraries"
   ]
  },
  {
   "cell_type": "markdown",
   "id": "72a6f835-69c6-4839-888a-cac11becc2ee",
   "metadata": {},
   "source": [
    "## 3.1 Import of libraries"
   ]
  },
  {
   "cell_type": "code",
   "execution_count": 103,
   "id": "fc793ca8-df34-4fa3-9f93-eb5e84594b8c",
   "metadata": {},
   "outputs": [],
   "source": [
    "#Importing basic data analyst libraries\n",
    "import pandas as pd\n",
    "import numpy as np\n",
    "import seaborn as sns\n",
    "import matplotlib.pyplot as plt\n",
    "\n",
    "#Importing libraries for SQL querrying\n",
    "import duckdb "
   ]
  },
  {
   "cell_type": "markdown",
   "id": "28d3603c-6982-4308-82b7-f144456b5a09",
   "metadata": {},
   "source": [
    "##3.2 Importing tables"
   ]
  },
  {
   "cell_type": "markdown",
   "id": "3d98b1a6-2877-4596-8313-9e1867f18c41",
   "metadata": {},
   "source": [
    "I decided to import all the tables relevant for my analysis at this point. I will treat them as a database and later on i will look at them in detail. Now I will just import them one by one whereas querrying and cleaning comes a bit later in separate stages. I chose this approach because i find it more logically organised compared to other solutions."
   ]
  },
  {
   "cell_type": "markdown",
   "id": "6fd34dc1-8988-482c-80ff-78f6dc9c6914",
   "metadata": {},
   "source": [
    "###3.2.1 Importing confirmed cases table"
   ]
  },
  {
   "cell_type": "code",
   "execution_count": 108,
   "id": "661943cf-0e35-4eed-a45c-1802dd7ad2ab",
   "metadata": {},
   "outputs": [],
   "source": [
    "df_cases = pd.read_csv('data/raw/confirmed_global.csv')"
   ]
  },
  {
   "cell_type": "markdown",
   "id": "389d255f-b2b1-47f5-a01d-dc9f4d52a686",
   "metadata": {},
   "source": [
    "Verifying import"
   ]
  },
  {
   "cell_type": "code",
   "execution_count": 111,
   "id": "c7979b4f-3849-4ae5-8b43-54d506e81b42",
   "metadata": {},
   "outputs": [
    {
     "name": "stdout",
     "output_type": "stream",
     "text": [
      "  Province/State Country/Region       Lat       Long  1/22/20  1/23/20  \\\n",
      "0            NaN    Afghanistan  33.93911  67.709953        0        0   \n",
      "1            NaN        Albania  41.15330  20.168300        0        0   \n",
      "2            NaN        Algeria  28.03390   1.659600        0        0   \n",
      "3            NaN        Andorra  42.50630   1.521800        0        0   \n",
      "4            NaN         Angola -11.20270  17.873900        0        0   \n",
      "\n",
      "   1/24/20  1/25/20  1/26/20  1/27/20  ...  4/1/21  4/2/21  4/3/21  4/4/21  \\\n",
      "0        0        0        0        0  ...   56517   56572   56595   56676   \n",
      "1        0        0        0        0  ...  125506  125842  126183  126531   \n",
      "2        0        0        0        0  ...  117304  117429  117524  117622   \n",
      "3        0        0        0        0  ...   12053   12115   12174   12231   \n",
      "4        0        0        0        0  ...   22399   22467   22579   22631   \n",
      "\n",
      "   4/5/21  4/6/21  4/7/21  4/8/21  4/9/21  4/10/21  \n",
      "0   56717   56779   56873   56943   57019    57144  \n",
      "1  126795  126936  127192  127509  127795   128155  \n",
      "2  117739  117879  118004  118116  118251   118378  \n",
      "3   12286   12328   12363   12409   12456    12497  \n",
      "4   22717   22885   23010   23108   23242    23331  \n",
      "\n",
      "[5 rows x 449 columns]\n"
     ]
    }
   ],
   "source": [
    "print(df_cases.head())"
   ]
  },
  {
   "cell_type": "markdown",
   "id": "ba95d563-b0fe-4301-9f97-e7ef7ce91214",
   "metadata": {},
   "source": [
    "##### ---Cases dataset imported successfully---"
   ]
  },
  {
   "cell_type": "markdown",
   "id": "a7406c85-43d8-474d-b076-1f6a0d66bf54",
   "metadata": {},
   "source": [
    "### 3.2.2 Importing death cases"
   ]
  },
  {
   "cell_type": "code",
   "execution_count": 115,
   "id": "07e9a1e5-fbde-4846-86c4-74ad856c91f6",
   "metadata": {},
   "outputs": [],
   "source": [
    "df_deaths = pd.read_csv('data/raw/deaths_global.csv')"
   ]
  },
  {
   "cell_type": "markdown",
   "id": "6ee17518-fdf9-415f-a225-30aa54526cdc",
   "metadata": {},
   "source": [
    "Verifying import"
   ]
  },
  {
   "cell_type": "code",
   "execution_count": 118,
   "id": "6c9ebbd4-552f-4eae-bf0a-3723c94e98c4",
   "metadata": {},
   "outputs": [
    {
     "name": "stdout",
     "output_type": "stream",
     "text": [
      "  Province/State Country/Region       Lat       Long  1/22/20  1/23/20  \\\n",
      "0            NaN    Afghanistan  33.93911  67.709953        0        0   \n",
      "1            NaN        Albania  41.15330  20.168300        0        0   \n",
      "2            NaN        Algeria  28.03390   1.659600        0        0   \n",
      "3            NaN        Andorra  42.50630   1.521800        0        0   \n",
      "4            NaN         Angola -11.20270  17.873900        0        0   \n",
      "\n",
      "   1/24/20  1/25/20  1/26/20  1/27/20  ...  4/1/21  4/2/21  4/3/21  4/4/21  \\\n",
      "0        0        0        0        0  ...    2489    2495    2496    2497   \n",
      "1        0        0        0        0  ...    2241    2247    2256    2265   \n",
      "2        0        0        0        0  ...    3096    3099    3102    3105   \n",
      "3        0        0        0        0  ...     115     116     117     117   \n",
      "4        0        0        0        0  ...     538     538     540     542   \n",
      "\n",
      "   4/5/21  4/6/21  4/7/21  4/8/21  4/9/21  4/10/21  \n",
      "0    2508    2512    2512    2516    2521     2521  \n",
      "1    2274    2283    2291    2297    2304     2310  \n",
      "2    3108    3112    3116    3119    3123     3126  \n",
      "3     117     117     119     120     120      120  \n",
      "4     543     547     547     549     549      550  \n",
      "\n",
      "[5 rows x 449 columns]\n"
     ]
    }
   ],
   "source": [
    "print(df_deaths.head())"
   ]
  },
  {
   "cell_type": "markdown",
   "id": "41cff8e2-9fd7-4a8b-8031-061c217c12cf",
   "metadata": {},
   "source": [
    "##### ----Deaths dataset importet successfully----"
   ]
  },
  {
   "cell_type": "markdown",
   "id": "7d486258-b68b-4077-b375-c708b51cdeef",
   "metadata": {},
   "source": [
    "### 3.2.3 Importing recovered cases dataset"
   ]
  },
  {
   "cell_type": "code",
   "execution_count": 122,
   "id": "f7429274-3c2c-4410-aba5-01614f548271",
   "metadata": {},
   "outputs": [],
   "source": [
    "df_recovered = pd.read_csv('data/raw/recovered_global.csv')"
   ]
  },
  {
   "cell_type": "code",
   "execution_count": 124,
   "id": "268d36ef-0074-4bf4-b53f-e40199f9ae18",
   "metadata": {},
   "outputs": [
    {
     "name": "stdout",
     "output_type": "stream",
     "text": [
      "  Province/State Country/Region       Lat       Long  1/22/20  1/23/20  \\\n",
      "0            NaN    Afghanistan  33.93911  67.709953        0        0   \n",
      "1            NaN        Albania  41.15330  20.168300        0        0   \n",
      "2            NaN        Algeria  28.03390   1.659600        0        0   \n",
      "3            NaN        Andorra  42.50630   1.521800        0        0   \n",
      "4            NaN         Angola -11.20270  17.873900        0        0   \n",
      "\n",
      "   1/24/20  1/25/20  1/26/20  1/27/20  ...  4/1/21  4/2/21  4/3/21  4/4/21  \\\n",
      "0        0        0        0        0  ...   51788   51798   51802   51885   \n",
      "1        0        0        0        0  ...   91875   92500   93173   93842   \n",
      "2        0        0        0        0  ...   81632   81729   81813   81896   \n",
      "3        0        0        0        0  ...   11365   11401   11428   11474   \n",
      "4        0        0        0        0  ...   20508   20867   20871   20879   \n",
      "\n",
      "   4/5/21  4/6/21  4/7/21  4/8/21  4/9/21  4/10/21  \n",
      "0   51902   51928   51940   51956   51961    51962  \n",
      "1   94431   95035   95600   96129   96672    97206  \n",
      "2   81994   82096   82192   82289   82392    82493  \n",
      "3   11523   11570   11616   11692   11732    11770  \n",
      "4   21452   21489   21545   21557   21589    21890  \n",
      "\n",
      "[5 rows x 449 columns]\n"
     ]
    }
   ],
   "source": [
    "print(df_recovered.head())"
   ]
  },
  {
   "cell_type": "markdown",
   "id": "318a75a5-b315-47f5-b3d6-883e27c35c2d",
   "metadata": {},
   "source": [
    "##### ----Recovered dataset importet successfully!----"
   ]
  },
  {
   "cell_type": "code",
   "execution_count": null,
   "id": "917d8b9e-c5f4-413d-a2c7-ed9a61393c8e",
   "metadata": {},
   "outputs": [],
   "source": []
  },
  {
   "cell_type": "code",
   "execution_count": null,
   "id": "6af021a4-5b87-4f55-a1bd-f608c2dd46ee",
   "metadata": {},
   "outputs": [],
   "source": []
  }
 ],
 "metadata": {
  "kernelspec": {
   "display_name": "Python [conda env:base] *",
   "language": "python",
   "name": "conda-base-py"
  },
  "language_info": {
   "codemirror_mode": {
    "name": "ipython",
    "version": 3
   },
   "file_extension": ".py",
   "mimetype": "text/x-python",
   "name": "python",
   "nbconvert_exporter": "python",
   "pygments_lexer": "ipython3",
   "version": "3.12.7"
  }
 },
 "nbformat": 4,
 "nbformat_minor": 5
}
